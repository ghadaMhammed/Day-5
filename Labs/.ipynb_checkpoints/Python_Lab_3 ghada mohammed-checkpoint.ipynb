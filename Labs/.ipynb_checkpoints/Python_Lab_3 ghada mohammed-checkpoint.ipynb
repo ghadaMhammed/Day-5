{
 "cells": [
  {
   "cell_type": "markdown",
   "metadata": {},
   "source": [
    "# Python_Lab_3\n"
   ]
  },
  {
   "cell_type": "markdown",
   "metadata": {},
   "source": [
    "### Task 1\n",
    "- Write a function named **'create_student_records'** that takes a list of tuples. Each tuple contains a student's name and their scores in three subjects. The function should return a list of dictionaries, where each dictionary represents a student with keys: name, subject1, subject2, subject3. Use list comprehension to create the list of dictionaries."
   ]
  },
  {
   "cell_type": "code",
   "execution_count": 1,
   "metadata": {},
   "outputs": [
    {
     "name": "stdout",
     "output_type": "stream",
     "text": [
      "[{'name': 'Ahmed', 'subject1': 'Math', 'score1': 90, 'subject2': 'Science', 'score2': 70, 'subject3': 'Art', 'score3': 100}, {'name': 'Ali', 'subject1': 'Math', 'score1': 90, 'subject2': 'Science', 'score2': 70, 'subject3': 'Art', 'score3': 100}]\n"
     ]
    }
   ],
   "source": [
    "# write your code here ^_^\n",
    "def create_student_records(list_of_tuples): #[(name,sub1,score,sub2,score,sub3,score), (name,sub1,score,sub2,score,sub3,score)]\n",
    "  return [{'name':i[0],'subject1':i[1],'score1':i[2],'subject2':i[3],'score2':i[4],'subject3':i[5],'score3':i[6]} for i in list_of_tuples]\n",
    "\n",
    "list_tuples = [('Ahmed', 'Math', 90, 'Science',70,'Art',100) , ('Ali', 'Math', 90, 'Science',70,'Art',100)]\n",
    "print(create_student_records(list_tuples))"
   ]
  },
  {
   "cell_type": "markdown",
   "metadata": {},
   "source": [
    "### Task 2\n",
    "- Write a function named **'filter_and_sort_students'** that takes the list of dictionaries from Question 1 and returns a sorted list of student names who have an average score of 80 or more across all subjects. Sort the names in alphabetical order."
   ]
  },
  {
   "cell_type": "code",
   "execution_count": 3,
   "metadata": {},
   "outputs": [
    {
     "name": "stdout",
     "output_type": "stream",
     "text": [
      "['Ahmed', 'Ali']\n"
     ]
    }
   ],
   "source": [
    "# write your code here ^_^\n",
    "def filter_and_sort_students(list_of_dict):\n",
    "  return sorted([i['name'] for i in list_of_dict if (i['score1']+i['score2']+i['score3'])/3 >= 80])\n",
    "\n",
    "print(filter_and_sort_students(create_student_records(list_tuples)))\n"
   ]
  },
  {
   "cell_type": "markdown",
   "metadata": {},
   "source": [
    "### Task 3\n",
    "- Write a function named **'get_product_info'** that prompts the user to enter information about a product. The function should ask for the product name, product price, and product quantity. If the user enters an invalid input (e.g., a non-numeric value for the price or quantity), the function should handle the error and prompt the user to enter the value again. Return a dictionary containing the product information."
   ]
  },
  {
   "cell_type": "code",
   "execution_count": 5,
   "metadata": {},
   "outputs": [
    {
     "name": "stdin",
     "output_type": "stream",
     "text": [
      "enter product name:  1\n",
      "enter product price:  3\n",
      "enter product quantity:  4\n"
     ]
    }
   ],
   "source": [
    "# write your code here ^_^\n",
    "def get_prod_info():\n",
    "  try:\n",
    "   input(\"enter product name: \")\n",
    "   float(input(\"enter product price: \"))\n",
    "   int(input(\"enter product quantity: \"))\n",
    "  except:\n",
    "    print(\"invalid input, please try again\")\n",
    "    get_prod_info()\n",
    "\n",
    "get_prod_info()"
   ]
  },
  {
   "cell_type": "markdown",
   "metadata": {},
   "source": [
    "### Task 4\n",
    "- Write a function named **'get_even_numbers'** that takes a list of integers and returns a list of even numbers using list comprehension."
   ]
  },
  {
   "cell_type": "code",
   "execution_count": 7,
   "metadata": {},
   "outputs": [
    {
     "name": "stdout",
     "output_type": "stream",
     "text": [
      "[2, 4, 6, 8, 10]\n"
     ]
    }
   ],
   "source": [
    "# write your code here ^_^\n",
    "def get_even_numbers(list_of_int):\n",
    "  return [i for i in list_of_int if i%2==0]\n",
    "\n",
    "print(get_even_numbers([1,2,3,4,5,6,7,8,9,10]))"
   ]
  },
  {
   "cell_type": "markdown",
   "metadata": {},
   "source": [
    "### Task 5\n",
    "- Write a function named **'pair_elements'** that takes two lists of equal length as parameters and returns a list of tuples, where each tuple contains corresponding elements from the two lists. Use the zip function to achieve this."
   ]
  },
  {
   "cell_type": "code",
   "execution_count": 9,
   "metadata": {},
   "outputs": [
    {
     "name": "stdout",
     "output_type": "stream",
     "text": [
      "[(1, 6), (2, 7), (3, 8), (4, 9), (5, 10)]\n"
     ]
    }
   ],
   "source": [
    "# write your code here ^_^\n",
    "def pair_elements(list1,list2):\n",
    "  if len(list1) == len(list2):\n",
    "   return list(zip(list1,list2))\n",
    "  else:\n",
    "    print(\"list1 and list2 must be equal length\")\n",
    "\n",
    "list1 = [1,2,3,4,5]\n",
    "list2 = [6,7,8,9,10]\n",
    "print(pair_elements(list1,list2))"
   ]
  },
  {
   "cell_type": "markdown",
   "metadata": {},
   "source": [
    "### Task 6\n",
    "- Write a function named **'square_dict_lambda'** that takes a list of integers and returns a dictionary where the keys are the integers and the values are their squares. Use a lambda function within a dictionary comprehension to achieve this."
   ]
  },
  {
   "cell_type": "code",
   "execution_count": 11,
   "metadata": {},
   "outputs": [
    {
     "name": "stdout",
     "output_type": "stream",
     "text": [
      "{1: 1, 2: 4, 3: 9, 4: 16, 5: 25}\n"
     ]
    }
   ],
   "source": [
    "# write your code here ^_^\n",
    "def square_dict(list_of_int):\n",
    "  return {i: (lambda x:x**2)(i) for i in list_of_int}\n",
    "\n",
    "print(square_dict([1,2,3,4,5]))"
   ]
  },
  {
   "cell_type": "code",
   "execution_count": null,
   "metadata": {},
   "outputs": [],
   "source": []
  }
 ],
 "metadata": {
  "kernelspec": {
   "display_name": "Python 3 (ipykernel)",
   "language": "python",
   "name": "python3"
  },
  "language_info": {
   "codemirror_mode": {
    "name": "ipython",
    "version": 3
   },
   "file_extension": ".py",
   "mimetype": "text/x-python",
   "name": "python",
   "nbconvert_exporter": "python",
   "pygments_lexer": "ipython3",
   "version": "3.12.4"
  }
 },
 "nbformat": 4,
 "nbformat_minor": 4
}
